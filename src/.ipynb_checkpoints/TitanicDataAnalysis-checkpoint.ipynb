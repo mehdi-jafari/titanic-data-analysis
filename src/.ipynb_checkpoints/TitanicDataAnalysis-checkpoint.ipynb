{
 "cells": [
  {
   "cell_type": "markdown",
   "metadata": {},
   "source": [
    "# Titanic Data Analysis By Mehdi Jafari\n",
    "\n",
    "## Introduction\n",
    "\n",
    "This pronject is anlyzing the demographics and passenger information from 891 of the 2224 passengers and crew on board the Titanic. Here are the variables that I will look at:\n",
    "\n",
    "1- socioeconomic status  \n",
    "2- gender  \n",
    "3- being alone or with family  \n",
    "\n",
    "I will try to answer the follwoing questions:  \n",
    "\n",
    "1- Did peopel's socioeconomic help them to get into lifeboat?  \n",
    "2- How did passengers' gender affect their chance to survive?  \n",
    "3- what about being alone or with family?  \n",
    "4- What is to co-relation between the survival and number of family members?  \n",
    "\n",
    "3- Did socio socio-economic status affect the chance of survival?  \n",
    "4- Was being in a family helped family members to survive more that the ones traveling alone?  \n"
   ]
  },
  {
   "cell_type": "code",
   "execution_count": 1,
   "metadata": {},
   "outputs": [
    {
     "data": {
      "text/html": [
       "<div>\n",
       "<style>\n",
       "    .dataframe thead tr:only-child th {\n",
       "        text-align: right;\n",
       "    }\n",
       "\n",
       "    .dataframe thead th {\n",
       "        text-align: left;\n",
       "    }\n",
       "\n",
       "    .dataframe tbody tr th {\n",
       "        vertical-align: top;\n",
       "    }\n",
       "</style>\n",
       "<table border=\"1\" class=\"dataframe\">\n",
       "  <thead>\n",
       "    <tr style=\"text-align: right;\">\n",
       "      <th></th>\n",
       "      <th>PassengerId</th>\n",
       "      <th>Survived</th>\n",
       "      <th>Pclass</th>\n",
       "      <th>Age</th>\n",
       "      <th>SibSp</th>\n",
       "      <th>Parch</th>\n",
       "      <th>Fare</th>\n",
       "    </tr>\n",
       "  </thead>\n",
       "  <tbody>\n",
       "    <tr>\n",
       "      <th>count</th>\n",
       "      <td>891.000000</td>\n",
       "      <td>891.000000</td>\n",
       "      <td>891.000000</td>\n",
       "      <td>714.000000</td>\n",
       "      <td>891.000000</td>\n",
       "      <td>891.000000</td>\n",
       "      <td>891.000000</td>\n",
       "    </tr>\n",
       "    <tr>\n",
       "      <th>mean</th>\n",
       "      <td>446.000000</td>\n",
       "      <td>0.383838</td>\n",
       "      <td>2.308642</td>\n",
       "      <td>29.699118</td>\n",
       "      <td>0.523008</td>\n",
       "      <td>0.381594</td>\n",
       "      <td>32.204208</td>\n",
       "    </tr>\n",
       "    <tr>\n",
       "      <th>std</th>\n",
       "      <td>257.353842</td>\n",
       "      <td>0.486592</td>\n",
       "      <td>0.836071</td>\n",
       "      <td>14.526497</td>\n",
       "      <td>1.102743</td>\n",
       "      <td>0.806057</td>\n",
       "      <td>49.693429</td>\n",
       "    </tr>\n",
       "    <tr>\n",
       "      <th>min</th>\n",
       "      <td>1.000000</td>\n",
       "      <td>0.000000</td>\n",
       "      <td>1.000000</td>\n",
       "      <td>0.420000</td>\n",
       "      <td>0.000000</td>\n",
       "      <td>0.000000</td>\n",
       "      <td>0.000000</td>\n",
       "    </tr>\n",
       "    <tr>\n",
       "      <th>25%</th>\n",
       "      <td>223.500000</td>\n",
       "      <td>0.000000</td>\n",
       "      <td>2.000000</td>\n",
       "      <td>20.125000</td>\n",
       "      <td>0.000000</td>\n",
       "      <td>0.000000</td>\n",
       "      <td>7.910400</td>\n",
       "    </tr>\n",
       "    <tr>\n",
       "      <th>50%</th>\n",
       "      <td>446.000000</td>\n",
       "      <td>0.000000</td>\n",
       "      <td>3.000000</td>\n",
       "      <td>28.000000</td>\n",
       "      <td>0.000000</td>\n",
       "      <td>0.000000</td>\n",
       "      <td>14.454200</td>\n",
       "    </tr>\n",
       "    <tr>\n",
       "      <th>75%</th>\n",
       "      <td>668.500000</td>\n",
       "      <td>1.000000</td>\n",
       "      <td>3.000000</td>\n",
       "      <td>38.000000</td>\n",
       "      <td>1.000000</td>\n",
       "      <td>0.000000</td>\n",
       "      <td>31.000000</td>\n",
       "    </tr>\n",
       "    <tr>\n",
       "      <th>max</th>\n",
       "      <td>891.000000</td>\n",
       "      <td>1.000000</td>\n",
       "      <td>3.000000</td>\n",
       "      <td>80.000000</td>\n",
       "      <td>8.000000</td>\n",
       "      <td>6.000000</td>\n",
       "      <td>512.329200</td>\n",
       "    </tr>\n",
       "  </tbody>\n",
       "</table>\n",
       "</div>"
      ],
      "text/plain": [
       "       PassengerId    Survived      Pclass         Age       SibSp  \\\n",
       "count   891.000000  891.000000  891.000000  714.000000  891.000000   \n",
       "mean    446.000000    0.383838    2.308642   29.699118    0.523008   \n",
       "std     257.353842    0.486592    0.836071   14.526497    1.102743   \n",
       "min       1.000000    0.000000    1.000000    0.420000    0.000000   \n",
       "25%     223.500000    0.000000    2.000000   20.125000    0.000000   \n",
       "50%     446.000000    0.000000    3.000000   28.000000    0.000000   \n",
       "75%     668.500000    1.000000    3.000000   38.000000    1.000000   \n",
       "max     891.000000    1.000000    3.000000   80.000000    8.000000   \n",
       "\n",
       "            Parch        Fare  \n",
       "count  891.000000  891.000000  \n",
       "mean     0.381594   32.204208  \n",
       "std      0.806057   49.693429  \n",
       "min      0.000000    0.000000  \n",
       "25%      0.000000    7.910400  \n",
       "50%      0.000000   14.454200  \n",
       "75%      0.000000   31.000000  \n",
       "max      6.000000  512.329200  "
      ]
     },
     "execution_count": 1,
     "metadata": {},
     "output_type": "execute_result"
    }
   ],
   "source": [
    "%matplotlib inline \n",
    "import pprint\n",
    "import numpy as np\n",
    "import pandas as pd\n",
    "import matplotlib.pyplot as plt\n",
    "import seaborn as sns\n",
    "import os\n",
    "\n",
    "titanic_df = pd.read_csv('titanic-data.csv')\n",
    "titanic_df.describe()"
   ]
  },
  {
   "cell_type": "markdown",
   "metadata": {},
   "source": [
    "## Data Wrangling\n",
    "\n",
    "Since count in the column 'Age' is diffrent from other columns, there must be some rows in our dataset with invalid or null age which should be scraped from the dataset that will be used for the rest of this project.\n"
   ]
  },
  {
   "cell_type": "code",
   "execution_count": 2,
   "metadata": {},
   "outputs": [
    {
     "name": "stdout",
     "output_type": "stream",
     "text": [
      "714\n"
     ]
    }
   ],
   "source": [
    "titanic_df = titanic_df[titanic_df.Age > 0]\n",
    "\n",
    "print len(titanic_df)"
   ]
  },
  {
   "cell_type": "code",
   "execution_count": 3,
   "metadata": {},
   "outputs": [
    {
     "data": {
      "text/html": [
       "<div>\n",
       "<style>\n",
       "    .dataframe thead tr:only-child th {\n",
       "        text-align: right;\n",
       "    }\n",
       "\n",
       "    .dataframe thead th {\n",
       "        text-align: left;\n",
       "    }\n",
       "\n",
       "    .dataframe tbody tr th {\n",
       "        vertical-align: top;\n",
       "    }\n",
       "</style>\n",
       "<table border=\"1\" class=\"dataframe\">\n",
       "  <thead>\n",
       "    <tr style=\"text-align: right;\">\n",
       "      <th></th>\n",
       "      <th>PassengerId</th>\n",
       "      <th>Survived</th>\n",
       "      <th>Pclass</th>\n",
       "      <th>Name</th>\n",
       "      <th>Sex</th>\n",
       "      <th>Age</th>\n",
       "      <th>SibSp</th>\n",
       "      <th>Parch</th>\n",
       "      <th>Ticket</th>\n",
       "      <th>Fare</th>\n",
       "      <th>Cabin</th>\n",
       "      <th>Embarked</th>\n",
       "      <th>SexFactor</th>\n",
       "      <th>SurvivedFactor</th>\n",
       "      <th>PclassFactor</th>\n",
       "      <th>WithFamily</th>\n",
       "      <th>FamilyCount</th>\n",
       "      <th>ScaledFamilyCount</th>\n",
       "      <th>ScaledAge</th>\n",
       "    </tr>\n",
       "  </thead>\n",
       "  <tbody>\n",
       "    <tr>\n",
       "      <th>0</th>\n",
       "      <td>1</td>\n",
       "      <td>0</td>\n",
       "      <td>3</td>\n",
       "      <td>Braund, Mr. Owen Harris</td>\n",
       "      <td>male</td>\n",
       "      <td>22.0</td>\n",
       "      <td>1</td>\n",
       "      <td>0</td>\n",
       "      <td>A/5 21171</td>\n",
       "      <td>7.2500</td>\n",
       "      <td>NaN</td>\n",
       "      <td>S</td>\n",
       "      <td>1</td>\n",
       "      <td>Died</td>\n",
       "      <td>Lower</td>\n",
       "      <td>With Family</td>\n",
       "      <td>1</td>\n",
       "      <td>0.037783</td>\n",
       "      <td>-0.530377</td>\n",
       "    </tr>\n",
       "    <tr>\n",
       "      <th>1</th>\n",
       "      <td>2</td>\n",
       "      <td>1</td>\n",
       "      <td>1</td>\n",
       "      <td>Cumings, Mrs. John Bradley (Florence Briggs Th...</td>\n",
       "      <td>female</td>\n",
       "      <td>38.0</td>\n",
       "      <td>1</td>\n",
       "      <td>0</td>\n",
       "      <td>PC 17599</td>\n",
       "      <td>71.2833</td>\n",
       "      <td>C85</td>\n",
       "      <td>C</td>\n",
       "      <td>2</td>\n",
       "      <td>Survived</td>\n",
       "      <td>Upper</td>\n",
       "      <td>With Family</td>\n",
       "      <td>1</td>\n",
       "      <td>0.037783</td>\n",
       "      <td>0.571831</td>\n",
       "    </tr>\n",
       "    <tr>\n",
       "      <th>2</th>\n",
       "      <td>3</td>\n",
       "      <td>1</td>\n",
       "      <td>3</td>\n",
       "      <td>Heikkinen, Miss. Laina</td>\n",
       "      <td>female</td>\n",
       "      <td>26.0</td>\n",
       "      <td>0</td>\n",
       "      <td>0</td>\n",
       "      <td>STON/O2. 3101282</td>\n",
       "      <td>7.9250</td>\n",
       "      <td>NaN</td>\n",
       "      <td>S</td>\n",
       "      <td>2</td>\n",
       "      <td>Survived</td>\n",
       "      <td>Lower</td>\n",
       "      <td>Alone</td>\n",
       "      <td>0</td>\n",
       "      <td>-0.636641</td>\n",
       "      <td>-0.254825</td>\n",
       "    </tr>\n",
       "    <tr>\n",
       "      <th>3</th>\n",
       "      <td>4</td>\n",
       "      <td>1</td>\n",
       "      <td>1</td>\n",
       "      <td>Futrelle, Mrs. Jacques Heath (Lily May Peel)</td>\n",
       "      <td>female</td>\n",
       "      <td>35.0</td>\n",
       "      <td>1</td>\n",
       "      <td>0</td>\n",
       "      <td>113803</td>\n",
       "      <td>53.1000</td>\n",
       "      <td>C123</td>\n",
       "      <td>S</td>\n",
       "      <td>2</td>\n",
       "      <td>Survived</td>\n",
       "      <td>Upper</td>\n",
       "      <td>With Family</td>\n",
       "      <td>1</td>\n",
       "      <td>0.037783</td>\n",
       "      <td>0.365167</td>\n",
       "    </tr>\n",
       "    <tr>\n",
       "      <th>4</th>\n",
       "      <td>5</td>\n",
       "      <td>0</td>\n",
       "      <td>3</td>\n",
       "      <td>Allen, Mr. William Henry</td>\n",
       "      <td>male</td>\n",
       "      <td>35.0</td>\n",
       "      <td>0</td>\n",
       "      <td>0</td>\n",
       "      <td>373450</td>\n",
       "      <td>8.0500</td>\n",
       "      <td>NaN</td>\n",
       "      <td>S</td>\n",
       "      <td>1</td>\n",
       "      <td>Died</td>\n",
       "      <td>Lower</td>\n",
       "      <td>Alone</td>\n",
       "      <td>0</td>\n",
       "      <td>-0.636641</td>\n",
       "      <td>0.365167</td>\n",
       "    </tr>\n",
       "  </tbody>\n",
       "</table>\n",
       "</div>"
      ],
      "text/plain": [
       "   PassengerId  Survived  Pclass  \\\n",
       "0            1         0       3   \n",
       "1            2         1       1   \n",
       "2            3         1       3   \n",
       "3            4         1       1   \n",
       "4            5         0       3   \n",
       "\n",
       "                                                Name     Sex   Age  SibSp  \\\n",
       "0                            Braund, Mr. Owen Harris    male  22.0      1   \n",
       "1  Cumings, Mrs. John Bradley (Florence Briggs Th...  female  38.0      1   \n",
       "2                             Heikkinen, Miss. Laina  female  26.0      0   \n",
       "3       Futrelle, Mrs. Jacques Heath (Lily May Peel)  female  35.0      1   \n",
       "4                           Allen, Mr. William Henry    male  35.0      0   \n",
       "\n",
       "   Parch            Ticket     Fare Cabin Embarked  SexFactor SurvivedFactor  \\\n",
       "0      0         A/5 21171   7.2500   NaN        S          1           Died   \n",
       "1      0          PC 17599  71.2833   C85        C          2       Survived   \n",
       "2      0  STON/O2. 3101282   7.9250   NaN        S          2       Survived   \n",
       "3      0            113803  53.1000  C123        S          2       Survived   \n",
       "4      0            373450   8.0500   NaN        S          1           Died   \n",
       "\n",
       "  PclassFactor   WithFamily  FamilyCount  ScaledFamilyCount  ScaledAge  \n",
       "0        Lower  With Family            1           0.037783  -0.530377  \n",
       "1        Upper  With Family            1           0.037783   0.571831  \n",
       "2        Lower        Alone            0          -0.636641  -0.254825  \n",
       "3        Upper  With Family            1           0.037783   0.365167  \n",
       "4        Lower        Alone            0          -0.636641   0.365167  "
      ]
     },
     "execution_count": 3,
     "metadata": {},
     "output_type": "execute_result"
    }
   ],
   "source": [
    "\n",
    "#lambda function for survival conversion \n",
    "SurvivalConversion = lambda survived: 'Survived' if survived == 1 else 'Died'\n",
    "\n",
    "#lambda function for sex convesion \n",
    "SexConversion = lambda sex: 1 if sex == 'male' else 2\n",
    "\n",
    "#lambda function to return 'With Family' if thet are traveling with their siblings, parents, partners or children \n",
    "WithFamilyConversion = lambda sibsp , parch: 'Alone'  if sibsp == 0 and parch == 0 else 'With Family'\n",
    "\n",
    "#function to convert pClass value based on the documentation\n",
    "def ConvertPClass(pclass):\n",
    "    if pclass == 1:\n",
    "        return 'Upper'\n",
    "    elif pclass == 2:\n",
    "        return 'Middle'\n",
    "    elif pclass == 3:\n",
    "        return 'Lower'\n",
    "    else:\n",
    "        return 'NA'\n",
    "\n",
    "#returns number of family members on the board\n",
    "def FamilyCount(sibsp, parch):\n",
    "    return sibsp + parch\n",
    "\n",
    "#standardize the value    \n",
    "def StandardizeColumn(column, value):\n",
    "    std = column.std()\n",
    "    mean = column.mean()\n",
    "    return (value - mean) / std\n",
    "\n",
    "#adding comuted columns\n",
    "titanic_df['SexFactor'] = titanic_df['Sex'].apply(SexConversion)\n",
    "titanic_df['SurvivedFactor'] = titanic_df['Survived'].apply(SurvivalConversion)\n",
    "titanic_df['PclassFactor'] = titanic_df['Pclass'].apply(ConvertPClass)\n",
    "titanic_df['WithFamily'] =  titanic_df.apply(lambda row: WithFamilyConversion(row['SibSp'], row['Parch']), axis=1)\n",
    "titanic_df['FamilyCount'] = titanic_df.apply(lambda row: FamilyCount(row['SibSp'], row['Parch']), axis=1)\n",
    "titanic_df['ScaledFamilyCount'] = (titanic_df['FamilyCount'] - titanic_df['FamilyCount'].mean()) / titanic_df['FamilyCount'].std(ddof=0)\n",
    "titanic_df['ScaledAge'] = (titanic_df['Age'] - titanic_df['Age'].mean()) / titanic_df['Age'].std(ddof=0)\n",
    "\n",
    "titanic_df.head()"
   ]
  },
  {
   "cell_type": "markdown",
   "metadata": {},
   "source": [
    "## Exploration Phase\n"
   ]
  },
  {
   "cell_type": "markdown",
   "metadata": {},
   "source": [
    "### Selected Variables Distribution\n",
    "\n",
    "Let's start with exploring the destibution of our selected variables.\n"
   ]
  },
  {
   "cell_type": "code",
   "execution_count": 4,
   "metadata": {},
   "outputs": [
    {
     "data": {
      "image/png": "[encoded data removed]",
      "text/plain": [
       "<matplotlib.figure.Figure at 0xba46dd8>"
      ]
     },
     "metadata": {},
     "output_type": "display_data"
    }
   ],
   "source": [
    "SocioEconomicDistribution = pd.Series(titanic_df.groupby(['PclassFactor']).count()['PassengerId'])\n",
    "GenderDistribution = pd.Series(titanic_df.groupby(['Sex']).count()['PassengerId'])\n",
    "WithFamilyDistribution = pd.Series(titanic_df.groupby(['WithFamily']).count()['PassengerId'])\n",
    "\n",
    "plt.close('all')\n",
    "fig = plt.figure()\n",
    "\n",
    "ax1 = plt.subplot2grid((1, 36), (0, 0), colspan=12)\n",
    "ax2 = plt.subplot2grid((1, 36), (0, 12), colspan=12)\n",
    "ax3 = plt.subplot2grid((1, 36), (0, 24), colspan=12)\n",
    "\n",
    "SocioEconomicDistribution.plot.pie(figsize=(10, 8),autopct='%.2f', title=\"socioeconomic Distribution\", ax=ax1)\n",
    "GenderDistribution.plot.pie(figsize=(10, 8),autopct='%.2f' , title=\"Gender Distribution\", ax=ax2)\n",
    "WithFamilyDistribution.plot.pie(figsize=(10, 8),autopct='%.2f', title=\"socioeconomic Distribution\", ax=ax3)\n",
    "\n",
    "plt.tight_layout()"
   ]
  },
  {
   "cell_type": "markdown",
   "metadata": {},
   "source": [
    "### Question 1: Survival by Gender\n",
    "As described in the following diagram, children had about 60 percent chance af survival, people from age 10 to 60 had about 40 percent chance and elderly people hace about 20 percent chance of survival. So, there could be a corelation between the age and the survival chance."
   ]
  },
  {
   "cell_type": "code",
   "execution_count": 5,
   "metadata": {},
   "outputs": [
    {
     "data": {
      "image/png": "[encoded data removed]",
      "text/plain": [
       "<matplotlib.figure.Figure at 0xbacd438>"
      ]
     },
     "metadata": {},
     "output_type": "display_data"
    }
   ],
   "source": [
    "groups = [0,1] \n",
    "categoryCount = titanic_df.groupby(['Sex']).count()['PassengerId']\n",
    "survivalBreakdown = titanic_df.groupby(['SurvivedFactor','Sex']).count()['PassengerId']\n",
    "totalCount = (categoryCount['male'],categoryCount['female'])\n",
    "diedCount = (survivalBreakdown['Died']['male'],survivalBreakdown['Died']['female'])\n",
    "\n",
    "p1 = plt.bar(groups, totalCount, align='center', color='green')\n",
    "p2 = plt.bar(groups, diedCount, align='center',  color='orange')\n",
    "\n",
    "plt.xticks(groups, ('Male','Female'))\n",
    "plt.ylabel('Passenger Count')\n",
    "plt.title('Survival by Gender')\n",
    "plt.legend((p1[0],p2[0]),('Survived','Died'))\n",
    "plt.show()"
   ]
  },
  {
   "cell_type": "markdown",
   "metadata": {
    "collapsed": true
   },
   "source": [
    "### Question 1: Survival by Socio-economic status (SES)\n",
    " As dipected in the follwing diagram, there could be a corelation between socio-economic status and the survival. About 70 percent of Upper class travelers survicved where as only 25 percent of lower class survived."
   ]
  },
  {
   "cell_type": "code",
   "execution_count": 6,
   "metadata": {},
   "outputs": [
    {
     "name": "stdout",
     "output_type": "stream",
     "text": [
      "0    0.760563\n",
      "1    0.520231\n",
      "2    0.344086\n",
      "dtype: float64\n"
     ]
    },
    {
     "data": {
      "image/png": "[encoded data removed]",
      "text/plain": [
       "<matplotlib.figure.Figure at 0xbd78d30>"
      ]
     },
     "metadata": {},
     "output_type": "display_data"
    }
   ],
   "source": [
    "groups = [0,1,2] \n",
    "categoryCount = titanic_df.groupby(['PclassFactor']).count()['PassengerId']\n",
    "survivalBreakdown = titanic_df.groupby(['SurvivedFactor','PclassFactor']).count()['PassengerId']\n",
    "totalCount = (categoryCount['Lower'],\n",
    "              categoryCount['Middle'],\n",
    "              categoryCount['Upper'])\n",
    "diedCount = (survivalBreakdown['Died']['Lower'],\n",
    "             survivalBreakdown['Died']['Middle'],\n",
    "             survivalBreakdown['Died']['Upper'],)\n",
    "\n",
    "print pd.Series(diedCount)/pd.Series(totalCount)\n",
    "\n",
    "p1 = plt.bar(groups, totalCount, align='center', color='green')\n",
    "p2 = plt.bar(groups, diedCount, align='center', color='orange')\n",
    "\n",
    "plt.xticks(groups, ('Lower','Middle','Uppper'))\n",
    "plt.ylabel('Passenger Count')\n",
    "plt.title('Survival by Socio-economic status (SES)')\n",
    "plt.legend((p1[0],p2[0]),('Survived','Died'))\n",
    "plt.show()"
   ]
  },
  {
   "cell_type": "markdown",
   "metadata": {},
   "source": [
    "### Question 2: Survival by Family\n",
    " As we can see in the diagram and percisely in the printed values they would have better chance to survice if they were travling with family. "
   ]
  },
  {
   "cell_type": "code",
   "execution_count": 7,
   "metadata": {},
   "outputs": [
    {
     "name": "stdout",
     "output_type": "stream",
     "text": [
      "0    0.678218\n",
      "1    0.483871\n",
      "dtype: float64\n"
     ]
    },
    {
     "data": {
      "image/png": "[encoded data removed]",
      "text/plain": [
       "<matplotlib.figure.Figure at 0xc19bda0>"
      ]
     },
     "metadata": {},
     "output_type": "display_data"
    }
   ],
   "source": [
    "groups = [0,1] \n",
    "categoryCount = titanic_df.groupby(['WithFamily']).count()['PassengerId']\n",
    "survivalBreakdown = titanic_df.groupby(['SurvivedFactor','WithFamily']).count()['PassengerId']\n",
    "totalCount = (categoryCount['Alone'],categoryCount['With Family'])\n",
    "diedCount = (survivalBreakdown['Died']['Alone'],survivalBreakdown['Died']['With Family'])\n",
    "\n",
    "print pd.Series(diedCount)/pd.Series(totalCount)\n",
    "\n",
    "p1 = plt.bar(groups, totalCount, align='center', color= 'green')\n",
    "p2 = plt.bar(groups, diedCount, align='center',  color='orange')\n",
    "\n",
    "plt.xticks(groups, ('Alone','With Family'))\n",
    "plt.ylabel('Passenger Count')\n",
    "plt.title('Survival by Family')\n",
    "plt.legend((p1[0],p2[0]),('Survived','Died'))\n",
    "plt.show()"
   ]
  },
  {
   "cell_type": "markdown",
   "metadata": {},
   "source": [
    "### Question 3: Correlation\n",
    "In this question we study the corelation between age and FamilyCount"
   ]
  },
  {
   "cell_type": "code",
   "execution_count": 9,
   "metadata": {
    "scrolled": true
   },
   "outputs": [
    {
     "data": {
      "image/png": "[encoded data removed]",
      "text/plain": [
       "<matplotlib.figure.Figure at 0xba46828>"
      ]
     },
     "metadata": {},
     "output_type": "display_data"
    },
    {
     "name": "stdout",
     "output_type": "stream",
     "text": [
      "-0.301913959192\n"
     ]
    }
   ],
   "source": [
    "standardAgeMean = titanic_df['ScaledAge'].mean()\n",
    "standardAgeStd = titanic_df['ScaledAge'].std()\n",
    "lx = standardAgeMean-(5*standardAgeStd)\n",
    "hx = standardAgeMean+(5*standardAgeStd)\n",
    "standardFareMean = titanic_df['ScaledFamilyCount'].mean()\n",
    "standardFareStd = titanic_df['ScaledFamilyCount'].std()\n",
    "ly = standardFareMean-(5*standardFareStd)\n",
    "hy = standardFareMean+(5*standardFareStd)\n",
    "plt.scatter (titanic_df['ScaledAge'], titanic_df['ScaledFamilyCount'], s=1.5)\n",
    "plt.axis([lx, hx, ly, hy])\n",
    "plt.show()\n",
    "print (titanic_df['ScaledAge'] * titanic_df['ScaledFamilyCount']).mean()"
   ]
  },
  {
   "cell_type": "code",
   "execution_count": null,
   "metadata": {
    "collapsed": true
   },
   "outputs": [],
   "source": []
  },
  {
   "cell_type": "markdown",
   "metadata": {},
   "source": [
    "## Conclusion\n",
    "As one would expect, the study shows that women and pe."
   ]
  }
 ],
 "metadata": {
  "anaconda-cloud": {},
  "kernelspec": {
   "display_name": "Python 2",
   "language": "python",
   "name": "python2"
  },
  "language_info": {
   "codemirror_mode": {
    "name": "ipython",
    "version": 2
   },
   "file_extension": ".py",
   "mimetype": "text/x-python",
   "name": "python",
   "nbconvert_exporter": "python",
   "pygments_lexer": "ipython2",
   "version": "2.7.13"
  }
 },
 "nbformat": 4,
 "nbformat_minor": 1
}
